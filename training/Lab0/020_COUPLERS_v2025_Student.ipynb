{
 "cells": [
  {
   "cell_type": "markdown",
   "metadata": {},
   "source": [
    "![PIC UPV PERTE Chip Chair Logo](https://www.pic-chair.upv.es/wp-content/uploads/2024/05/logo-upv-horizontal.png)\n",
    "![PIC UPV PERTE Chip Chair Logo](https://www.pic-chair.upv.es/wp-content/uploads/2024/06/logos-perte-chip-1024x119.png)\n",
    "\n",
    "\n",
    "# Laboratory 0.2. Couplers"
   ]
  },
  {
   "cell_type": "markdown",
   "metadata": {},
   "source": [
    "Today, we will take a brief look at two types of couplers used in integrated photonic circuits. We will perform simulations that will allow us to understand how the following operate: \n",
    "\n",
    "1. **Directional Couplers (DC)**\n",
    "\n",
    "2. **Multimode Interferometers (MMIs)**"
   ]
  },
  {
   "cell_type": "markdown",
   "metadata": {},
   "source": [
    "## 0. Imports \n",
    "(Run once  - before running other codes)"
   ]
  },
  {
   "cell_type": "code",
   "execution_count": 1,
   "metadata": {},
   "outputs": [],
   "source": [
    "try:\n",
    "  import google.colab\n",
    "  is_running_on_colab = True\n",
    "  !sudo apt-get install libglu1-mesa > /dev/null\n",
    "  !pip install gdsfactory==8.6.1 > /dev/null\n",
    "  !pip install \"gplugins[devsim,femwell,gmsh,schematic,meow,meshwell,ray,sax,tidy3d]\" > /dev/null\n",
    "\n",
    "except ImportError:\n",
    "  is_running_on_colab = False"
   ]
  },
  {
   "cell_type": "markdown",
   "metadata": {},
   "source": [
    "### 0.1. General libraries"
   ]
  },
  {
   "cell_type": "code",
   "execution_count": 1,
   "metadata": {},
   "outputs": [
    {
     "name": "stdout",
     "output_type": "stream",
     "text": [
      "\u001b[32m2025-09-11 23:18:04.287\u001b[0m | \u001b[1mINFO    \u001b[0m | \u001b[36mgplugins.tidy3d.modes\u001b[0m:\u001b[36m_data\u001b[0m:\u001b[36m266\u001b[0m - \u001b[1mload data from C:\\Users\\camil\\.gdsfactory\\modes\\WaveguideCoupler_e51ab3a5204c1f39.npz.\u001b[0m\n",
      "\u001b[32m2025-09-11 23:19:12.321\u001b[0m | \u001b[1mINFO    \u001b[0m | \u001b[36mgplugins.tidy3d.modes\u001b[0m:\u001b[36m_data\u001b[0m:\u001b[36m306\u001b[0m - \u001b[1mstore data into C:\\Users\\camil\\.gdsfactory\\modes\\Waveguide_bb415d080d176e08.npz.\u001b[0m\n"
     ]
    }
   ],
   "source": [
    "import matplotlib.pyplot as plt\n",
    "import numpy as np\n",
    "\n",
    "import tidy3d as td\n",
    "\n",
    "import gplugins as gp\n",
    "import gplugins.tidy3d as gt\n",
    "from gplugins import plot\n",
    "from gplugins.common.config import PATH\n",
    "\n",
    "import shapely as shp\n",
    "import shapely.affinity as shpa\n",
    "from collections import OrderedDict\n",
    "from matplotlib.pyplot import cm\n",
    "\n",
    "from skfem.io.meshio import from_meshio\n",
    "from femwell.mesh import mesh_from_OrderedDict\n",
    "from femwell.visualization import plot_domains\n",
    "from femwell.maxwell.waveguide import compute_modes\n",
    "import femwell.maxwell.waveguide as fmwg\n",
    "\n",
    "import gplugins.tidy3d.materials as mat\n",
    "\n",
    "from tqdm.auto import tqdm\n",
    "\n",
    "from skfem import (\n",
    "    Basis,\n",
    "    BilinearForm,\n",
    "    ElementDG,\n",
    "    ElementTriN1,\n",
    "    ElementTriN2,\n",
    "    ElementTriP0,\n",
    "    ElementTriP1,\n",
    "    ElementTriP2,\n",
    "    ElementVector,\n",
    "    Functional,\n",
    "    InteriorFacetBasis,\n",
    "    LinearForm,\n",
    "    Mesh,\n",
    "    condense,\n",
    "    solve,\n",
    ")\n",
    "\n",
    "from mpl_toolkits.axes_grid1.axes_divider import make_axes_locatable\n",
    "\n",
    "from matplotlib.patches import Rectangle\n",
    "\n",
    "nm = 1e-3\n",
    "wavelength = np.linspace(1500, 1600) * nm\n",
    "f = td.C_0 / wavelength"
   ]
  },
  {
   "cell_type": "markdown",
   "metadata": {},
   "source": [
    "### 0.2. Functions by us"
   ]
  },
  {
   "cell_type": "code",
   "execution_count": 4,
   "metadata": {},
   "outputs": [],
   "source": [
    "# This function takes the \"mode\" resulting from FEMWELL modesovler\n",
    "# and provides a slight more visible plot of Ex and Ey\n",
    "# It also anotates the figure thi the effective index and TE/TM fractions\n",
    "def my_plot_mode(mode, i, xlim = [-2,2], ylim = [-1,1]):\n",
    "    (Ex, Ey), _ = mode.basis.interpolate(mode.E)\n",
    "    fig, axs = plt.subplots(1,2,sharey=True, sharex=True)\n",
    "    axs[0].set_aspect('equal')\n",
    "    axs[1].set_aspect('equal')\n",
    "\n",
    "    (et, et_basis), (ez, ez_basis) = mode.basis.split(mode.E)\n",
    "\n",
    "    plot_basis = et_basis.with_element(ElementVector(ElementDG(ElementTriP1())))\n",
    "    et_xy = plot_basis.project(et_basis.interpolate(et))\n",
    "    (et_x, et_x_basis), (et_y, et_y_basis) = plot_basis.split(et_xy)\n",
    "\n",
    "    for ax in axs:\n",
    "        mode.basis.mesh.draw(ax=ax, boundaries_only=True)\n",
    "        for subdomain in mode.basis.mesh.subdomains.keys() - {\"gmsh:bounding_entities\"}:\n",
    "            mode.basis.mesh.restrict(subdomain).draw(ax=ax, boundaries_only=True)\n",
    "\n",
    "    vmin = np.min((et_x, et_y))\n",
    "    vmax = np.max((et_x, et_y))\n",
    "\n",
    "    et_x_basis.plot(et_x, shading=\"gouraud\", ax=axs[0], vmin=np.min(et_x), vmax=np.max(et_x), cmap=\"bwr\")\n",
    "\n",
    "    ctxt = \"black\"\n",
    "    fs = 8\n",
    "\n",
    "    s = f\"Mode # {i}, n_eff = {np.real(mode.n_eff):.4f}\"\n",
    "    axs[0].annotate(s,(-1.95,1.5),color=ctxt, fontsize=fs)\n",
    "    s = f\"TE {mode.te_fraction:.4f}, TM {mode.tm_fraction:.4f}\"\n",
    "    axs[0].annotate(s,(-1.95,1.0),color=ctxt, fontsize=fs)\n",
    "\n",
    "    et_y_basis.plot(et_y, shading=\"gouraud\", ax=axs[1], vmin=np.min(et_y), vmax=np.max(et_y), cmap=\"bwr\")\n",
    "\n",
    "    plt.xlim(xlim)\n",
    "    plt.ylim(ylim)\n",
    "\n",
    "# Given FEMWELL calcuated modes, return two sets for the TE and TM separated\n",
    "def get_TETM(modes):\n",
    "    modes_TE = []\n",
    "    modes_TM = []\n",
    "    for i,mode in enumerate(modes):\n",
    "        if (mode.te_fraction > 0.5):\n",
    "            modes_TE.append(mode)\n",
    "        if (mode.tm_fraction >0.5):\n",
    "            modes_TM.append(mode)\n",
    "    return modes_TE, modes_TM\n",
    "\n",
    "# Given a set of modes, identify those whose effective index\n",
    "# is above certain TOL of the reference index give (e.g. cladding index)\n",
    "# and thus are considered as guided\n",
    "def guided_modes(modes, mat_cladd = mat.sio2(1.55), TOL = 1e-2):\n",
    "    guided_modes = []\n",
    "    for i,mode in enumerate(modes):\n",
    "        if ( ( np.real(mode.n_eff) - mat_cladd ) >= TOL):\n",
    "            guided_modes.append(mode)\n",
    "    return guided_modes\n",
    "\n",
    "# This function returns the FEMWELL calucated modes and basis used\n",
    "# for several parameters\n",
    "def waveguide(\n",
    "        wg_width = 1.0,            # waveguide width\n",
    "        wg_thickness = 0.3,    # waveguide thickness\n",
    "        x_c = 0.0,             # waveguide center\n",
    "        wvl = 1.55,                      # wavelength\n",
    "        mat_core = mat.sin(1.55),        # core material\n",
    "        mat_shallow = mat.sio2(1.55),    # shallow area material\n",
    "        mat_cladd = mat.sio2(1.55),      # cladding material\n",
    "        num_modes = 2,          # number of modes\n",
    "        sh_width = 10.0,                # the width of the shallow part\n",
    "        sh_thickness = 0.150,           # thickness of shallow part\n",
    "        XY = [-1,-1,1,1],               # simulation window\n",
    "        ENABLE_PLOTS = False           # plot or not\n",
    "):\n",
    "\n",
    "        ### Create the polygons representing the waveguide\n",
    "\n",
    "        # Simulation region corner coordinates\n",
    "        # x0 = -sh_width/2.0\n",
    "        # x1 = -x0\n",
    "        # y0 = -2\n",
    "        # y1 = -y0\n",
    "        x0 = XY[0]\n",
    "        y0 = XY[1]\n",
    "        x1 = XY[2]\n",
    "        y1 = XY[3]\n",
    "        env = shp.box(x0, y0, x1, y1) # env is the actual simulation area\n",
    "\n",
    "        # Polygons representing the different waveguide regions within the simulation area\n",
    "        core = shp.box(-wg_width / 2 + x_c, -wg_thickness/2.0, +wg_width / 2 + x_c, +wg_thickness/2.0) # box, but could be something else, e.g. trapezoid\n",
    "        #shallow = shp.box(-sh_width / 2, 0, +sh_width / 2, sh_thickness)\n",
    "\n",
    "        # Dictionary with the above\n",
    "        polygons = OrderedDict(\n",
    "        core=core,\n",
    "        #shallow = shallow,\n",
    "        oxide=shp.clip_by_rect(env, -np.inf, -np.inf, np.inf, np.inf)\n",
    "\n",
    "        #box=shp.clip_by_rect(env, -np.inf, -np.inf, np.inf, 0), # substrate from below to y = 0\n",
    "        #clad=shp.clip_by_rect(env, -np.inf, 0, np.inf, np.inf), # clading from y = 0 and above\n",
    "        )\n",
    "\n",
    "        # Assign them resolutions\n",
    "        #resolutions = dict(core={\"resolution\": 0.1, \"distance\": 0.5}, shallow={\"resolution\": 0.1, \"distance\": 0.5})\n",
    "        resol_core = wg_thickness / 5\n",
    "        #resol_shallow = sh_thickness / 5\n",
    "        resol_oxide = 0.5\n",
    "\n",
    "        resolutions = dict(\n",
    "            core={\"resolution\": resol_core, \"distance\": 0.5},\n",
    "            #shallow={\"resolution\": resol_shallow, \"distance\": 0.5},\n",
    "            #box={\"resolution\": resol_oxide, \"distance\": 2.0},\n",
    "            #cladd={\"resolution\": resol_oxide, \"distance\": 2.0}\n",
    "            oxide ={\"resolution\": resol_oxide, \"distance\": 2.0}\n",
    "        )\n",
    "        # Create mesh with the polygons and the resolutions\n",
    "        mesh = from_meshio(mesh_from_OrderedDict(polygons, resolutions, default_resolution_max=10))\n",
    "\n",
    "        if (ENABLE_PLOTS):\n",
    "                # Plot the mesh\n",
    "                mesh.draw().show()\n",
    "                # Identify the different parts of the waveguide\n",
    "                plot_domains(mesh)\n",
    "                plt.show()\n",
    "\n",
    "\n",
    "        # Assign the different materials to the mesh areas:\n",
    "        basis0 = fmwg.Basis(mesh, fmwg.ElementTriP0()) # extract basis from mesh\n",
    "        epsilon = basis0.zeros() # set the permitiviy (epsilon) to zero everywhere\n",
    "\n",
    "        # Iterate over the different parts of the mesh and assign refractive index (note n**2 because femwell expects permitivity)\n",
    "        #for subdomain, n in {\"core\": mat_core, \"shallow\": mat_shallow, \"box\": mat_cladd, \"clad\": mat_cladd}.items():\n",
    "        #for subdomain, n in {\"core\": mat_core, \"box\": mat_cladd, \"clad\": mat_cladd}.items():\n",
    "        for subdomain, n in {\"core\": mat_core, \"oxide\": mat_cladd}.items():\n",
    "                epsilon[basis0.get_dofs(elements=subdomain)] = n**2\n",
    "\n",
    "        # Plot permitivity map\n",
    "        if (ENABLE_PLOTS):\n",
    "                basis0.plot(epsilon, colorbar=True).show()\n",
    "\n",
    "\n",
    "        # Find the propagation modes\n",
    "\n",
    "        modes = fmwg.compute_modes(basis0, epsilon, wavelength=wvl, num_modes=num_modes, order=2)\n",
    "\n",
    "        guided_m = guided_modes(modes)\n",
    "        return guided_m, basis0\n",
    "\n",
    "# This function returns the FEMWELL calucated modes and basis used\n",
    "# for several parameters\n",
    "def waveguide_Array(\n",
    "        wg_width = 1.0,            # waveguide width\n",
    "        wg_thickness = 0.3,    # waveguide thickness\n",
    "        wg_gap = 0.8,\n",
    "        wg_N = 2,\n",
    "        x_c = 0.0,             # waveguide center\n",
    "        wvl = 1.55,                      # wavelength\n",
    "        mat_core = mat.sin(1.55),        # core material\n",
    "        mat_shallow = mat.sio2(1.55),    # shallow area material\n",
    "        mat_cladd = mat.sio2(1.55),      # cladding material\n",
    "        num_modes = 2,          # number of modes\n",
    "        sh_width = 10.0,                # the width of the shallow part\n",
    "        sh_thickness = 0.150,           # thickness of shallow part\n",
    "        XY = [-1,-1,1,1],               # simulation window\n",
    "        ENABLE_PLOTS = False           # plot or not\n",
    "):\n",
    "\n",
    "        ### Create the polygons representing the waveguide\n",
    "\n",
    "        # Simulation region corner coordinates\n",
    "\n",
    "        # Polygons representing the different waveguide regions within the simulation area\n",
    "        cores = []\n",
    "        wg_d = wg_width + wg_gap\n",
    "        if wg_N % 2 == 0:  # N is even\n",
    "            centers = np.arange(-wg_N//2, wg_N//2)+1/2\n",
    "        else:           # N is odd\n",
    "            centers = np.arange(-wg_N//2+1, wg_N//2 + 1)\n",
    "        # print(centers)\n",
    "           \n",
    "        centers = centers * wg_d\n",
    "\n",
    "        padding = 2*wg_width\n",
    "        x0 = np.min(centers) - (wg_width/2.0 + padding)\n",
    "        y0 = XY[1]\n",
    "        x1 = np.max(centers) + (wg_width/2.0 + padding)\n",
    "        y1 = XY[3]\n",
    "        XY = [x0,y0,x1,y1]\n",
    "\n",
    "        env = shp.box(x0, y0, x1, y1) # env is the actual simulation area\n",
    "\n",
    "        for i in range(0,wg_N):\n",
    "            cores.append( shp.box(-wg_width / 2 + x_c + centers[i], -wg_thickness/2.0, +wg_width / 2 + x_c + centers[i], +wg_thickness/2.0) )# box, but could be something else, e.g. trapezoid\n",
    "        #shallow = shp.box(-sh_width / 2, 0, +sh_width / 2, sh_thickness)\n",
    "\n",
    "        core = shp.ops.unary_union(cores)\n",
    "\n",
    "        # Dictionary with the above\n",
    "        polygons = OrderedDict(\n",
    "        core=core,\n",
    "        #shallow = shallow,\n",
    "        oxide=shp.clip_by_rect(env, -np.inf, -np.inf, np.inf, np.inf)\n",
    "\n",
    "        #box=shp.clip_by_rect(env, -np.inf, -np.inf, np.inf, 0), # substrate from below to y = 0\n",
    "        #clad=shp.clip_by_rect(env, -np.inf, 0, np.inf, np.inf), # clading from y = 0 and above\n",
    "        )\n",
    "\n",
    "        # Assign them resolutions\n",
    "        #resolutions = dict(core={\"resolution\": 0.1, \"distance\": 0.5}, shallow={\"resolution\": 0.1, \"distance\": 0.5})\n",
    "        resol_core = wg_thickness / 5\n",
    "        #resol_shallow = sh_thickness / 5\n",
    "        resol_oxide = 0.5\n",
    "\n",
    "        resolutions = dict(\n",
    "            core={\"resolution\": resol_core, \"distance\": 0.5},\n",
    "            #shallow={\"resolution\": resol_shallow, \"distance\": 0.5},\n",
    "            #box={\"resolution\": resol_oxide, \"distance\": 2.0},\n",
    "            #cladd={\"resolution\": resol_oxide, \"distance\": 2.0}\n",
    "            oxide ={\"resolution\": resol_oxide, \"distance\": 2.0}\n",
    "        )\n",
    "        # Create mesh with the polygons and the resolutions\n",
    "        mesh = from_meshio(mesh_from_OrderedDict(polygons, resolutions, default_resolution_max=10))\n",
    "\n",
    "        if (ENABLE_PLOTS):\n",
    "                # Plot the mesh\n",
    "                mesh.draw().show()\n",
    "                # Identify the different parts of the waveguide\n",
    "                plot_domains(mesh)\n",
    "                plt.show()\n",
    "\n",
    "\n",
    "        # Assign the different materials to the mesh areas:\n",
    "        basis0 = fmwg.Basis(mesh, fmwg.ElementTriP0()) # extract basis from mesh\n",
    "        epsilon = basis0.zeros() # set the permitiviy (epsilon) to zero everywhere\n",
    "\n",
    "        # Iterate over the different parts of the mesh and assign refractive index (note n**2 because femwell expects permitivity)\n",
    "        #for subdomain, n in {\"core\": mat_core, \"shallow\": mat_shallow, \"box\": mat_cladd, \"clad\": mat_cladd}.items():\n",
    "        #for subdomain, n in {\"core\": mat_core, \"box\": mat_cladd, \"clad\": mat_cladd}.items():\n",
    "        for subdomain, n in {\"core\": mat_core, \"oxide\": mat_cladd}.items():\n",
    "                epsilon[basis0.get_dofs(elements=subdomain)] = n**2\n",
    "\n",
    "        # Plot permitivity map\n",
    "        if (ENABLE_PLOTS):\n",
    "                basis0.plot(epsilon, colorbar=True).show()\n",
    "\n",
    "\n",
    "        # Find the propagation modes\n",
    "\n",
    "        modes = fmwg.compute_modes(basis0, epsilon, wavelength=wvl, num_modes=num_modes, order=2)\n",
    "\n",
    "        guided_m = guided_modes(modes)\n",
    "        return guided_m, basis0, XY, centers\n",
    "\n",
    "\n",
    "# Function to get a 1D slide of mode at the centran coordinate\n",
    "\n",
    "def slice_mode(mode = [], num_points = 1024, x0=-4, x1=+4, polarization=\"TE\"):\n",
    "    (Ex, Ey), _ = mode.basis.interpolate(mode.E)\n",
    "    (et, et_basis), (ez, ez_basis) = mode.basis.split(mode.E)\n",
    "    plot_basis = et_basis.with_element(ElementVector(ElementDG(ElementTriP1())))\n",
    "    et_xy = plot_basis.project(et_basis.interpolate(et))\n",
    "    (et_x, et_x_basis), (et_y, et_y_basis) = plot_basis.split(et_xy)\n",
    "\n",
    "    # fig, axs = plt.subplots()\n",
    "   #  print(np)\n",
    "    N_query_pts = num_points\n",
    "    x_0 = x0\n",
    "    x_1 = x1\n",
    "    x1_value = 0.0\n",
    "    query_pts = np.vstack([\n",
    "        np.linspace(x_0,x_1,N_query_pts),  # x[0] coordinate values\n",
    "        x1_value*np.ones(N_query_pts),  # x[1] coordinate values\n",
    "    ])\n",
    "    if polarization == \"TE\":\n",
    "        p0_probes = et_x_basis.probes(query_pts)\n",
    "        e = p0_probes @ et_x\n",
    "    if polarization == \"TM\":\n",
    "        p0_probes = et_y_basis.probes(query_pts)\n",
    "        e = p0_probes @ et_y\n",
    "    # axs.plot(query_pts[0], e)\n",
    "    return query_pts[0], e\n",
    "\n",
    "def mode_overlap(\n",
    "          mode_single,\n",
    "          modes_multiple,\n",
    "    ):\n",
    "\n",
    "    num_modes = np.size(modes_multiple)\n",
    "    ovl = np.zeros((1,num_modes), dtype=np.complex128)\n",
    "    for j, mode in enumerate(modes_multiple):\n",
    "        ovl[0][j] = mode_single.calculate_overlap(mode)\n",
    "\n",
    "    return ovl\n",
    "\n",
    "def propagate_modes(\n",
    "        wvl = 1.55,\n",
    "        dz = 0.05,\n",
    "        L = 100.0,\n",
    "        ovl_z_0 = [],\n",
    "        modes = [],\n",
    "        slices = []\n",
    "):\n",
    "    num_modes = np.size(modes)\n",
    "    np_z = int(np.round(L/dz))\n",
    "    L_v = np.linspace(0,L,np_z)\n",
    "\n",
    "    beta_v = np.zeros((num_modes))\n",
    "    ph = np.zeros((num_modes), dtype=np.complex128)\n",
    "    propag = np.zeros((num_modes), dtype=np.complex128)\n",
    "    for i, mode in enumerate(tqdm(modes)):\n",
    "        beta_v[i] = 2*np.pi/wvl * np.real(mode.n_eff)\n",
    "\n",
    "    num_points = np.size(slices,1)\n",
    "    print(num_points)\n",
    "    intensity_L = np.zeros((np_z,num_points))\n",
    "    for i, L in enumerate(tqdm(L_v)):\n",
    "        ph = np.exp(-1.0 * 1j * beta_v*L )\n",
    "        propag = np.multiply(ovl_z_0,ph.T)\n",
    "        e_z = np.zeros(num_points, dtype=np.complex128)\n",
    "        for j, shape in enumerate(modes):\n",
    "            # p = propag[0][j]\n",
    "            e_z += slices[j]*propag[j]\n",
    "        intensity_L[i] = np.abs(e_z)**2\n",
    "\n",
    "    return L_v, intensity_L, propag"
   ]
  },
  {
   "cell_type": "markdown",
   "metadata": {},
   "source": [
    "### 0.3 Classes by us"
   ]
  },
  {
   "cell_type": "code",
   "execution_count": 2,
   "metadata": {},
   "outputs": [],
   "source": [
    "class MMI_EME:\n",
    "    def __init__(\n",
    "            self,\n",
    "            name = \"MMI EME\",\n",
    "            dim = \"2D\",\n",
    "            wvl = 1.55,\n",
    "            mat_core = mat.sin(1.55),\n",
    "            mat_cladd = mat.sio2(1.55),# waveguide height\n",
    "            polarization = 'TE',\n",
    "            n_IN = 2,\n",
    "            IN_WVG_positions = [-1,1],\n",
    "            n_OUT = 2,\n",
    "            OUT_WVG_positions = [-1,1],\n",
    "            power_IN = [1,0],\n",
    "            wg_width = 1.0,\n",
    "            wg_num_modes = 2,\n",
    "            MMI_width = 6.0, # waveguide width for MMI\n",
    "            MMI_num_modes= 20,\n",
    "            dz = 0.05, # step in z for EME propagation\n",
    "            slices_np = 1024,\n",
    "            VERBOSE = False,\n",
    "            ENABLE_MODE_PLOTS = False,\n",
    "            ENABLE_MMI_PLOTS = False,\n",
    "        ):\n",
    "        self.name = name\n",
    "        self.dim = dim,\n",
    "        self.wvl = wvl\n",
    "        self.mat_core = mat_core\n",
    "        self.mat_cladd = mat_cladd\n",
    "        self.polarization = polarization\n",
    "        self.n_IN = n_IN\n",
    "        self.IN_WVG_positions = IN_WVG_positions\n",
    "        self.n_OUT = n_OUT\n",
    "        self.OUT_WVG_positions = OUT_WVG_positions\n",
    "        self.power_IN = power_IN\n",
    "        self.wg_width = wg_width\n",
    "        self.wg_num_modes = wg_num_modes\n",
    "        self.MMI_width = MMI_width\n",
    "        self.MMI_num_modes = MMI_num_modes\n",
    "        self.dz = dz\n",
    "        self.slices_np = slices_np\n",
    "        self.wg_width_dw = 0.0\n",
    "        self.dL_MMI = 0.0\n",
    "        self.dx_IO = 0.0\n",
    "\n",
    "        self.VERBOSE = VERBOSE\n",
    "        self.ENABLE_MODE_PLOTS = ENABLE_MODE_PLOTS\n",
    "        self.ENABLE_MMI_PLOTS = ENABLE_MMI_PLOTS\n",
    "\n",
    "        self.MMI_modes = []\n",
    "        self.MMI_basis = []\n",
    "        self.XY = []\n",
    "        self.MMI_modes_pol = []\n",
    "        self.n_MODES = 0\n",
    "        self.slices = []\n",
    "        self.mode_IN_wvg = []\n",
    "        self.mode_OUT_wvg = []\n",
    "\n",
    "        self.L_pi_2D = 0.0\n",
    "        self.L_MMI = 0.0\n",
    "        self.IO_x_c = 0.0\n",
    "\n",
    "        self.ovl_IN = []\n",
    "        self.ovl_OUT = []\n",
    "        self.z = []\n",
    "        self.x = []\n",
    "        self.intensity_z = []\n",
    "        self.propag = []\n",
    "\n",
    "        self.field_OUT = []\n",
    "        self.power_OUT = []\n",
    "        self.phase_OUT = []\n",
    "        self.power_IN = 0.0\n",
    "        self.tot_power_OUT = 0.0\n",
    "        self.EL = 0.0\n",
    "        self.ratio_OUT = 0.0\n",
    "\n",
    "        self.io_wvg_mode = []\n",
    "        self.io_wvg_mode_1D_slice = []\n",
    "        self.io_wvg_mode_1D_x = []\n",
    "\n",
    "        self.IN_WVG_slices_1D = []\n",
    "        self.OUT_WVG_slices_1D  = []\n",
    "\n",
    "\n",
    "    def find_modes(self):\n",
    "        # Find the propagation modes\n",
    "        # Simulation window\n",
    "        x0 = -4 - self.MMI_width / 2.0\n",
    "        x1 = -x0\n",
    "        y0 = -2\n",
    "        y1 = -y0\n",
    "        self.XY = [x0,y0,x1,y1]\n",
    "\n",
    "        self.MMI_modes, self.MMI_basis = waveguide(\n",
    "            wg_width=self.MMI_width,\n",
    "            wvl = self.wvl,\n",
    "            num_modes=self.MMI_num_modes,\n",
    "            XY= self.XY,\n",
    "            ENABLE_PLOTS=self.ENABLE_MODE_PLOTS\n",
    "        )\n",
    "        if ( self.VERBOSE ):\n",
    "            print(self.MMI_modes)\n",
    "            # Print the mode characteristics\n",
    "            print(\"Wavelength\", self.wvl, \" µm\")\n",
    "            print(\"---------------------------------------------\")\n",
    "            print(\"Core refractive index:\", self.mat_core)\n",
    "\n",
    "            for i,mode in enumerate(self.MMI_modes):\n",
    "                print(\"--- Mode #\"+str(i), \" --------------------------------\")\n",
    "                print(f\"Effective refractive index: {mode.n_eff:.4f}\")\n",
    "                print(f\"TE fraction: {mode.te_fraction:.4f}\")\n",
    "                print(f\"TM fraction: {mode.tm_fraction:.4f}\")\n",
    "                confinement = mode.calculate_confinement_factor(elements=\"core\")\n",
    "                print(f\"Confinement factor: {confinement:.4f}\")\n",
    "                # mode.show(mode.E.real, colorbar=True, direction=\"x\")\n",
    "            print(\"---------------------------------------------\")\n",
    "            print(\"Cladding refractive index:\", self.mat_cladd)\n",
    "        if ( self.ENABLE_MMI_PLOTS ):\n",
    "            for i, mode in enumerate(self.MMI_modes):\n",
    "                my_plot_mode(mode, i, xlim = [x0,x1])\n",
    "        # Let's select the polarization to work with\n",
    "        MMI_modes_TE, MMI_modes_TM =get_TETM(modes = self.MMI_modes)\n",
    "\n",
    "        n_TE = np.size(MMI_modes_TE)\n",
    "        n_TM = np.size(MMI_modes_TM)\n",
    "        n_all = np.size(self.MMI_modes)\n",
    "        if ( self.VERBOSE ):\n",
    "            print(f\"TE number: {n_TE}, TM number: {n_TM}, n_all: {n_all}\")\n",
    "\n",
    "        self.slice_modes_1D(MMI_modes_TE, MMI_modes_TM, n_TE, n_TM, x0, x1)\n",
    "        # Calculate the PI length for the selecte polarization\n",
    "        self.L_pi_2D = 0.5*self.wvl / np.real(self.MMI_modes_pol[0].n_eff - self.MMI_modes_pol[1].n_eff)\n",
    "\n",
    "        if ( self.VERBOSE ):\n",
    "            print(\"n_MODES=\",self.n_MODES)\n",
    "            print(f\"Lπ 2D = {self.L_pi_2D:.2f} µm\")\n",
    "            print(self.MMI_modes)\n",
    "\n",
    "    def get_L_pi(self):\n",
    "        return self.L_pi_2D\n",
    "    \n",
    "    def slice_modes_1D(self, MMI_modes_TE, MMI_modes_TM, n_TE, n_TM, x0, x1):\n",
    "        # MMI mode slices 1D\n",
    "        if (self.ENABLE_MMI_PLOTS):\n",
    "            fig, axs = plt.subplots(2,1)\n",
    "\n",
    "        color = cm.rainbow(np.linspace(0, 1, n_TE))\n",
    "        s_TE = np.zeros((n_TE, self.slices_np))\n",
    "\n",
    "        for i, mode in enumerate(MMI_modes_TE):\n",
    "            x, s = slice_mode(mode=mode,num_points=self.slices_np, x0=x0, x1=x1, polarization=\"TE\") # this function slices the mode shape at y = 0, TE modes\n",
    "            s_TE[i] = s\n",
    "            if (self.ENABLE_MMI_PLOTS):\n",
    "                axs[0].plot(x,s_TE[i], color=color[i], label=\"TE\"+str(i))\n",
    "\n",
    "        color = cm.rainbow(np.linspace(0, 1, n_TM))\n",
    "        s_TM = np.zeros((n_TM, self.slices_np))\n",
    "\n",
    "        for i, mode in enumerate(MMI_modes_TM):\n",
    "            x, s = slice_mode(mode=mode,num_points=self.slices_np, x0=x0, x1=x1, polarization=\"TM\") # this function slices the mode shape at y = 0, TM modes\n",
    "            s_TM[i] = s\n",
    "            if (self.ENABLE_MMI_PLOTS):\n",
    "                axs[1].plot(x,s_TM[i], color=color[i], label=\"TM\"+str(i))\n",
    "\n",
    "        self.x = x\n",
    "\n",
    "        if (self.ENABLE_MMI_PLOTS):\n",
    "            for i, ax in enumerate(axs):\n",
    "                ax.grid(True)\n",
    "                ax.set_xlabel('x [µm]')\n",
    "                ax.legend(loc=\"upper right\")\n",
    "\n",
    "        # Work with a single polarization from now onward\n",
    "        if (self.polarization == 'TE'):\n",
    "            self.MMI_modes_pol = MMI_modes_TE\n",
    "            self.n_MODES = n_TE\n",
    "            self.slices = s_TE\n",
    "        else:\n",
    "            self.MMI_modes_pol = MMI_modes_TM\n",
    "            self.n_MODES = n_TM\n",
    "            self.slices = s_TM\n",
    "\n",
    "    def set_wg_width(self,w):\n",
    "        self.wg_width = w\n",
    "\n",
    "    def set_wg_width_dw(self,dw):\n",
    "        self.wg_width_dw = dw\n",
    "\n",
    "    def set_dL_MMI(self, dL):\n",
    "        self.dL_MMI = dL\n",
    "\n",
    "    def set_dx_IO(self, dx):\n",
    "        self.dx_IO = dx\n",
    "\n",
    "    def set_dz(self, dz):\n",
    "        self.dz = dz\n",
    "\n",
    "    def set_wg_num_modes(self, num_modes):\n",
    "        self.wg_num_modes = num_modes\n",
    "\n",
    "    def io_overlaps(self):\n",
    "        self.ovl_IN = np.zeros((self.n_IN, self.n_MODES), dtype=np.complex128)\n",
    "        for i, mode in enumerate(self.mode_IN_wvg):\n",
    "            self.ovl_IN[i] = mode_overlap(mode_single=mode, modes_multiple=self.MMI_modes_pol)\n",
    "        self.ovl_OUT = np.zeros((self.n_OUT, self.n_MODES), dtype=np.complex128)\n",
    "        for i, mode in enumerate(self.mode_OUT_wvg):\n",
    "            self.ovl_OUT[i] = mode_overlap(mode_single=mode, modes_multiple=self.MMI_modes_pol)\n",
    "\n",
    "    def propagate(self):\n",
    "        self.z, self.intensity_z, self.propag = propagate_modes(\n",
    "            wvl = self.wvl,\n",
    "            dz = self.dz,\n",
    "            L = self.L_MMI + self.dL_MMI,\n",
    "            ovl_z_0 = self.ovl_IN[0],\n",
    "            modes = self.MMI_modes_pol,\n",
    "            slices = self.slices\n",
    "        )\n",
    "\n",
    "    def output_transfer(self):\n",
    "        # Overlaps integrals\n",
    "        ### Overlap with output waveguide same as input (same position)\n",
    "        self.field_OUT = np.zeros((self.n_OUT), dtype=np.complex128)\n",
    "        self.power_OUT = np.zeros((self.n_OUT))\n",
    "        self.phase_OUT = np.zeros((self.n_OUT))\n",
    "\n",
    "        for i, ovl in enumerate(self.ovl_OUT):\n",
    "            o = np.dot(self.propag,ovl)\n",
    "            self.field_OUT[i] = o\n",
    "            self.power_OUT[i] = np.abs(o)**2\n",
    "            self.phase_OUT[i] = (180/np.pi)*np.angle(o)\n",
    "        \n",
    "        self.power_IN = np.sum(np.abs(self.ovl_IN[0])**2)\n",
    "        self.tot_power_OUT = np.sum(self.power_OUT)\n",
    "        self.EL = 10*np.log10(1.0/self.tot_power_OUT)\n",
    "        self.ratio_OUT = self.power_OUT / self.tot_power_OUT\n",
    "        # return o\n",
    "        print(\"------- Pameters -------\")\n",
    "        print(\"MMI length\", f\"{self.L_MMI:.4f}\")\n",
    "        print(\"MMI length increment\", f\"{self.dL_MMI:.4f}\")\n",
    "        print(\"IO wg width\", f\"{self.wg_width:.4f}\")\n",
    "        print(\"IO wg width increment\", f\"{self.wg_width_dw:.4f}\")\n",
    "        print(\"------------------------\")\n",
    "        print(\"Total power IN coupled\", f\"{self.power_IN:.4f}\")\n",
    "        print(\"Total OUT power:\", f\"{self.tot_power_OUT:.4f}\")\n",
    "        print(\"Excess loss [dB] = \", f\"{self.EL:.4f}\")\n",
    "        print(\"------------------------\")\n",
    "        print(\"Power over OUTs: \", [f\"{num:.4f}\" for num in self.power_OUT])\n",
    "        print(\"Ratio over OUTs\", [f\"{num:.4f}\" for num in self.ratio_OUT])\n",
    "        \n",
    "\n",
    "    def plot_propagation(self, AspectRatioOne = True):\n",
    "        fig, ax = plt.subplots()\n",
    "        if ( AspectRatioOne ):\n",
    "            ax.set_aspect(1) \n",
    "\n",
    "        x_m, z_m = np.meshgrid(self.x, self.z)\n",
    "        ax.pcolormesh(z_m, x_m, self.intensity_z, cmap=\"hsv\") #gist_stern\n",
    "        ax.add_patch(Rectangle((0,-self.MMI_width/2.0),self.L_MMI+self.dL_MMI,self.MMI_width, edgecolor=\"white\", facecolor=\"white\", alpha=0.25, lw=4))\n",
    "\n",
    "        for i, x_c_i in enumerate(self.IN_WVG_positions):\n",
    "            ax.add_patch(Rectangle((-5,x_c_i-(self.wg_width+self.wg_width_dw)/2.0),5,self.wg_width+self.wg_width_dw, edgecolor=\"white\", facecolor=\"grey\", alpha=0.25, lw=4))\n",
    "        for i, x_c_i in enumerate(self.OUT_WVG_positions):\n",
    "            ax.add_patch(Rectangle((self.L_MMI+self.dL_MMI,x_c_i -(self.wg_width+self.wg_width_dw)/2.0),5,self.wg_width+self.wg_width_dw, edgecolor=\"white\", facecolor=\"grey\", alpha=0.25, lw=4))  \n",
    "\n",
    "        ax.set_xlabel('z [µm]')\n",
    "        ax.set_ylabel('x [µm]')\n",
    "        ax.set_title('EME propagation')\n",
    "\n",
    "        return fig, ax\n",
    "\n",
    "    # def io_waveguides_modes(self):\n",
    "    #     # This method is a placeholder, intended to be overridden by subclasses\n",
    "    #     raise NotImplementedError(\"Subclasses must implement this method\")\n",
    "    #     # pass\n",
    "\n",
    "    def io_waveguides_modes(self):\n",
    "        IWVG_0_modes, IWVG_0_basis = waveguide(\n",
    "            wg_width = self.wg_width + self.wg_width_dw,\n",
    "            x_c = 0.0,\n",
    "            wvl = self.wvl,\n",
    "            mat_core = self.mat_core,\n",
    "            mat_cladd = self.mat_cladd,\n",
    "            num_modes = self.wg_num_modes,\n",
    "            XY= self.XY,\n",
    "            ENABLE_PLOTS=self.ENABLE_MODE_PLOTS\n",
    "        )\n",
    "        IWVG_0_modes_TE, IWVG_0_modes_TM = get_TETM(IWVG_0_modes)\n",
    "        # Work with a single polarization from now onward\n",
    "        if (self.polarization == 'TE'):\n",
    "            self.mode_IN_wvg.append( IWVG_0_modes_TE[0] )\n",
    "        else:\n",
    "            self.mode_IN_wvg.append( IWVG_0_modes_TM[0] )\n",
    "\n",
    "\n",
    "    # --------------------------------\n",
    "    # 1D mode slices part of the class\n",
    "    # --------------------------------\n",
    "\n",
    "    def io_waveguide_mode_1D(self):\n",
    "        # Modes of IN/OUT waveguide - centered\n",
    "        IOWVG_mode, IOWVG_basis = waveguide(\n",
    "            wg_width = self.wg_width + self.wg_width_dw,\n",
    "            x_c = 0.0,\n",
    "            wvl = self.wvl,\n",
    "            mat_core = self.mat_core,\n",
    "            mat_cladd = self.mat_cladd,\n",
    "            num_modes = self.wg_num_modes,\n",
    "            XY= self.XY,\n",
    "            ENABLE_PLOTS=self.ENABLE_MODE_PLOTS\n",
    "        )\n",
    "\n",
    "        # Get TE and TM modes\n",
    "        m_TE, m_TM = guided_modes(modes=IOWVG_mode, mat_cladd = self.mat_cladd)\n",
    "\n",
    "        # Retain fundamental mode for TE and TM polarization\n",
    "        # Slice 1D the modes\n",
    "        x0 = self.XY[0]\n",
    "        x1 = self.XY[2]\n",
    "        if ( self.polarization == 'TE' ):\n",
    "            if ( m_TE ):\n",
    "                self.io_wvg_mode_1D = m_TE\n",
    "                x, s = slice_mode(mode=m_TE,num_points=self.slices_np, x0=x0, x1=x1, polarization=\"TE\")\n",
    "                self.io_wvg_mode_1D_slice = s\n",
    "                self.io_wvg_mode_1D_x = x\n",
    "        if ( self.polarization == 'TM' ):\n",
    "            if ( m_TM ):\n",
    "                self.io_wvg_mode_TM0 = m_TM\n",
    "                x, s = slice_mode(mode=m_TM,num_points=self.slices_np, x0=x0, x1=x1, polarization=\"TM\")\n",
    "                self.io_wvg_mode_1D_slice = s\n",
    "                self.io_wvg_mode_1D_x = x\n",
    "\n",
    "    def shift_IO_wvg_slices(self):\n",
    "        self.IN_WVG_slices_1D = np.zeros((self.n_IN, self.slices_np), dtype=np.complex128)\n",
    "        self.OUT_WVG_slices_1D = np.zeros((self.n_OUT, self.slices_np), dtype=np.complex128)\n",
    "        x = self.x\n",
    "        s = self.io_wvg_mode_1D_slice\n",
    "        for i in range(0, self.n_IN):\n",
    "            dx = self.IN_WVG_positions[i]\n",
    "            dx_idx = int(dx / (x[1] - x[0]))\n",
    "            s_dx = np.roll(s, dx_idx)\n",
    "            self.IN_WVG_slices_1D[i] = s_dx\n",
    "        for i in range(0, self.n_OUT):\n",
    "            dx = self.OUT_WVG_positions[i]\n",
    "            dx_idx = int(dx / (x[1] - x[0]))\n",
    "            s_dx = np.roll(s, dx_idx)\n",
    "            self.OUT_WVG_slices_1D[i] = s_dx\n",
    "\n",
    "    def normalize_slice_1D(self):\n",
    "        s = self.io_wvg_mode_1D_slice\n",
    "        x = self.x\n",
    "        integral = np.trapezoid(np.abs(s)**2,x)\n",
    "        self.io_wvg_mode_1D_slice = s / np.sqrt(integral)\n",
    "\n",
    "    def normalize_MMI_slices_1D(self):\n",
    "        for i, s in enumerate(self.slices):\n",
    "            integral = np.trapezoid(np.abs(s)**2,self.x)\n",
    "            self.slices[i] = s / np.sqrt(integral)\n",
    "\n",
    "    def overlap_integral(self, s1, s2, x):\n",
    "        ovl = np.trapezoid( s1 * s2, x)\n",
    "        return(ovl)\n",
    "\n",
    "    def IO_overlap_1D(self):\n",
    "        self.normalize_MMI_slices_1D()\n",
    "        self.normalize_slice_1D()\n",
    "        self.shift_IO_wvg_slices()\n",
    "        x = self.x\n",
    "        self.ovl_IN = np.zeros((self.n_IN, self.n_MODES), dtype=np.complex128)\n",
    "        for i, s1 in enumerate(self.IN_WVG_slices_1D):\n",
    "            for j, s2 in enumerate(self.slices):\n",
    "                self.ovl_IN[i][j] = self.overlap_integral(s1, s2, x)\n",
    "        self.ovl_OUT = np.zeros((self.n_OUT, self.n_MODES), dtype=np.complex128)\n",
    "        for i, s1 in enumerate(self.OUT_WVG_slices_1D):\n",
    "            for j, s2 in enumerate(self.slices):\n",
    "                self.ovl_OUT[i][j] = self.overlap_integral(s1, s2, x)\n",
    "\n",
    "    def plot_mode_slices(self):\n",
    "        x = self.x\n",
    "        s_in = self.IN_WVG_slices_1D\n",
    "        s_MMI = self.slices\n",
    "        s_out = self.OUT_WVG_slices_1D\n",
    "        pol = self.polarization\n",
    "\n",
    "        fig, ax = plt.subplots(3,1)\n",
    "        ax[0].plot(x, s_in.T, label=pol+\"0, in0\")\n",
    "        ax[0].grid(True)\n",
    "        ax[0].legend(fontsize=8)\n",
    "\n",
    "        for i, s in enumerate(s_MMI):\n",
    "            ax[1].plot(x, s.T, label=pol+f'{i}'+\", MMI\")\n",
    "\n",
    "        ax[1].grid(True)\n",
    "        ax[1].legend(fontsize=8)\n",
    "\n",
    "        for i, s in enumerate(s_out):\n",
    "            ax[2].plot(x, s.T, label=pol+\"0, out\"+f'{i}')\n",
    "        ax[2].grid(True)\n",
    "        ax[2].legend(fontsize=8)\n",
    "        ax[2].set_xlabel('x [µm]')\n",
    "        \n",
    "    def run_full(self):\n",
    "        self.find_modes()\n",
    "        self.io_waveguides_modes()\n",
    "        self.io_overlaps()\n",
    "        self.propagate()\n",
    "        self.output_transfer()\n",
    "\n",
    "    def run_1D_full(self):\n",
    "        self.find_modes()\n",
    "        self.io_waveguides_modes()\n",
    "        self.io_waveguide_mode_1D()\n",
    "        self.IO_overlap_1D()\n",
    "        self.propagate()\n",
    "        self.output_transfer()\n",
    "\n",
    "    def run(self):\n",
    "        self.io_waveguides_modes()\n",
    "        self.io_waveguide_mode_1D()\n",
    "        self.IO_overlap_1D()\n",
    "        self.propagate()\n",
    "        self.output_transfer()\n",
    "    \n",
    "    def find_all_modes(self):\n",
    "        self.find_modes()\n",
    "        self.io_waveguides_modes()\n",
    "        self.io_waveguide_mode_1D()\n",
    "\n",
    "    def propagation(self):\n",
    "        self.IO_overlap_1D()\n",
    "        self.propagate()\n",
    "        self.output_transfer()\n",
    "        self.plot_propagation()"
   ]
  },
  {
   "cell_type": "code",
   "execution_count": 3,
   "metadata": {},
   "outputs": [],
   "source": [
    "class DC_EME(MMI_EME):\n",
    "    def __init__(self, \n",
    "                 name = \"Directional Coupler\",\n",
    "                 DC_N_waveguides = 2,\n",
    "                 DC_wg_width = 1.0,\n",
    "                 DC_wg_gap = 0.8,\n",
    "                 ):\n",
    "        super().__init__(name = name)\n",
    "        self.DC_N_waveguides = DC_N_waveguides\n",
    "        self.DC_wg_width = DC_wg_width\n",
    "        self.DC_wg_gap = DC_wg_gap\n",
    "        self.centers = []\n",
    "\n",
    "    def find_modes(self):\n",
    "        # Find the propagation modes\n",
    "        # Simulation window\n",
    "\n",
    "        x0 = -4 - self.MMI_width / 2.0\n",
    "        x1 = -x0\n",
    "        y0 = -2\n",
    "        y1 = -y0\n",
    "        self.XY = [x0,y0,x1,y1]\n",
    "\n",
    "        self.MMI_modes, self.MMI_basis, XY, centers = waveguide_Array(\n",
    "            wg_width=self.DC_wg_width,\n",
    "            wvl = self.wvl,\n",
    "            num_modes=self.MMI_num_modes,\n",
    "            XY= self.XY,\n",
    "            ENABLE_PLOTS=self.ENABLE_MODE_PLOTS,\n",
    "            wg_N = self.DC_N_waveguides,\n",
    "            wg_gap = self.DC_wg_gap\n",
    "        )\n",
    "\n",
    "        self.centers = centers\n",
    "        self.OUT_WVG_positions = centers\n",
    "        self.OUT_WVG_positions = centers\n",
    "        self.XY = XY\n",
    "        x0 = self.XY[0]\n",
    "        y0 = self.XY[1]\n",
    "        x1 = self.XY[2]\n",
    "        y1 = self.XY[3]\n",
    "\n",
    "        if ( self.VERBOSE ):\n",
    "            print(self.MMI_modes)\n",
    "            # Print the mode characteristics\n",
    "            print(\"Wavelength\", self.wvl, \" µm\")\n",
    "            print(\"---------------------------------------------\")\n",
    "            print(\"Core refractive index:\", self.mat_core)\n",
    "\n",
    "            for i,mode in enumerate(self.MMI_modes):\n",
    "                print(\"--- Mode #\"+str(i), \" --------------------------------\")\n",
    "                print(f\"Effective refractive index: {mode.n_eff:.4f}\")\n",
    "                print(f\"TE fraction: {mode.te_fraction:.4f}\")\n",
    "                print(f\"TM fraction: {mode.tm_fraction:.4f}\")\n",
    "                confinement = mode.calculate_confinement_factor(elements=\"core\")\n",
    "                print(f\"Confinement factor: {confinement:.4f}\")\n",
    "                # mode.show(mode.E.real, colorbar=True, direction=\"x\")\n",
    "            print(\"---------------------------------------------\")\n",
    "            print(\"Cladding refractive index:\", self.mat_cladd)\n",
    "        if ( self.ENABLE_MMI_PLOTS ):\n",
    "            for i, mode in enumerate(self.MMI_modes):\n",
    "                my_plot_mode(mode, i, xlim = [x0,x1])\n",
    "        # Let's select the polarization to work with\n",
    "        MMI_modes_TE, MMI_modes_TM =get_TETM(modes = self.MMI_modes)\n",
    "\n",
    "        n_TE = np.size(MMI_modes_TE)\n",
    "        n_TM = np.size(MMI_modes_TM)\n",
    "        n_all = np.size(self.MMI_modes)\n",
    "        if ( self.VERBOSE ):\n",
    "            print(f\"TE number: {n_TE}, TM number: {n_TM}, n_all: {n_all}\")\n",
    "\n",
    "        self.slice_modes_1D(MMI_modes_TE, MMI_modes_TM, n_TE, n_TM, x0, x1)\n",
    "        # Calculate the PI length for the selecte polarization\n",
    "        self.L_pi_2D = 0.5*self.wvl / np.real(self.MMI_modes_pol[0].n_eff - self.MMI_modes_pol[1].n_eff)\n",
    "\n",
    "        if ( self.VERBOSE ):\n",
    "            print(\"n_MODES=\",self.n_MODES)\n",
    "            print(f\"Lπ 2D = {self.L_pi_2D:.2f} µm\")\n",
    "            print(self.MMI_modes)    \n",
    "\n",
    "    def plot_propagation(self, AspectRatioOne = True):\n",
    "        fig, ax = plt.subplots()\n",
    "        if ( AspectRatioOne ):\n",
    "            ax.set_aspect(1) \n",
    "\n",
    "        x_m, z_m = np.meshgrid(self.x, self.z)\n",
    "        ax.pcolormesh(z_m, x_m, self.intensity_z, cmap=\"hsv\") #gist_stern\n",
    "        # ax.add_patch(Rectangle((0,-self.MMI_width/2.0),self.L_MMI+self.dL_MMI,self.MMI_width, edgecolor=\"white\", facecolor=\"white\", alpha=0.25, lw=4))\n",
    "        for i, x_c_i in enumerate(self.centers):\n",
    "            ax.add_patch(Rectangle((0,x_c_i-self.wg_width/2.0),self.L_MMI+self.dL_MMI,x_c_i+self.wg_width/2.0, edgecolor=\"white\", facecolor=\"white\", alpha=0.25, lw=4))\n",
    "\n",
    "        for i, x_c_i in enumerate(self.IN_WVG_positions):\n",
    "            ax.add_patch(Rectangle((-5,x_c_i-(self.wg_width+self.wg_width_dw)/2.0),5,self.wg_width+self.wg_width_dw, edgecolor=\"white\", facecolor=\"grey\", alpha=0.25, lw=4))\n",
    "        for i, x_c_i in enumerate(self.OUT_WVG_positions):\n",
    "            ax.add_patch(Rectangle((self.L_MMI+self.dL_MMI,x_c_i -(self.wg_width+self.wg_width_dw)/2.0),5,self.wg_width+self.wg_width_dw, edgecolor=\"white\", facecolor=\"grey\", alpha=0.25, lw=4))  \n",
    "\n",
    "        ax.set_xlabel('z [µm]')\n",
    "        ax.set_ylabel('x [µm]')\n",
    "        ax.set_title('EME propagation')\n",
    "\n",
    "        return fig, ax"
   ]
  },
  {
   "cell_type": "markdown",
   "metadata": {},
   "source": [
    "## LO.1. Directional coupler cross-section in GDSFactory\n",
    "\n",
    "### 1.1. Materials"
   ]
  },
  {
   "cell_type": "code",
   "execution_count": 5,
   "metadata": {},
   "outputs": [
    {
     "ename": "TypeError",
     "evalue": "only length-1 arrays can be converted to Python scalars",
     "output_type": "error",
     "traceback": [
      "\u001b[31m---------------------------------------------------------------------------\u001b[39m",
      "\u001b[31mTypeError\u001b[39m                                 Traceback (most recent call last)",
      "\u001b[36mCell\u001b[39m\u001b[36m \u001b[39m\u001b[32mIn[5]\u001b[39m\u001b[32m, line 2\u001b[39m\n\u001b[32m      1\u001b[39m nitride_mat = td.material_library[\u001b[33m\"\u001b[39m\u001b[33mSi3N4\u001b[39m\u001b[33m\"\u001b[39m][\u001b[33m\"\u001b[39m\u001b[33mLuke2015PMLStable\u001b[39m\u001b[33m\"\u001b[39m]\n\u001b[32m----> \u001b[39m\u001b[32m2\u001b[39m nitride_index = \u001b[43mgt\u001b[49m\u001b[43m.\u001b[49m\u001b[43mmaterials\u001b[49m\u001b[43m.\u001b[49m\u001b[43mget_index\u001b[49m\u001b[43m(\u001b[49m\u001b[43m(\u001b[49m\u001b[33;43m\"\u001b[39;49m\u001b[33;43mSi3N4\u001b[39;49m\u001b[33;43m\"\u001b[39;49m\u001b[43m,\u001b[49m\u001b[43m \u001b[49m\u001b[33;43m\"\u001b[39;49m\u001b[33;43mLuke2015PMLStable\u001b[39;49m\u001b[33;43m\"\u001b[39;49m\u001b[43m)\u001b[49m\u001b[43m,\u001b[49m\u001b[43mwavelength\u001b[49m\u001b[43m)\u001b[49m\n\u001b[32m      3\u001b[39m box_mat = td.material_library[\u001b[33m\"\u001b[39m\u001b[33mSiO2\u001b[39m\u001b[33m\"\u001b[39m][\u001b[33m\"\u001b[39m\u001b[33mHoriba\u001b[39m\u001b[33m\"\u001b[39m]\n\u001b[32m      4\u001b[39m box_index = gt.materials.get_index((\u001b[33m\"\u001b[39m\u001b[33mSiO2\u001b[39m\u001b[33m\"\u001b[39m, \u001b[33m\"\u001b[39m\u001b[33mHoriba\u001b[39m\u001b[33m\"\u001b[39m),wavelength)\n",
      "\u001b[36mFile \u001b[39m\u001b[32mc:\\Users\\camil\\Documents\\GitHub\\pdk_UPVfab_v2\\.venv\\Lib\\site-packages\\gplugins\\tidy3d\\materials.py:58\u001b[39m, in \u001b[36mget_index\u001b[39m\u001b[34m(spec, wavelength)\u001b[39m\n\u001b[32m     53\u001b[39m eps_complex = get_epsilon(\n\u001b[32m     54\u001b[39m     wavelength=wavelength,\n\u001b[32m     55\u001b[39m     spec=spec,\n\u001b[32m     56\u001b[39m )\n\u001b[32m     57\u001b[39m n, _ = td.Medium.eps_complex_to_nk(eps_complex)\n\u001b[32m---> \u001b[39m\u001b[32m58\u001b[39m \u001b[38;5;28;01mreturn\u001b[39;00m \u001b[38;5;28;43mfloat\u001b[39;49m\u001b[43m(\u001b[49m\u001b[43mn\u001b[49m\u001b[43m)\u001b[49m\n",
      "\u001b[31mTypeError\u001b[39m: only length-1 arrays can be converted to Python scalars"
     ]
    }
   ],
   "source": [
    "nitride_mat = td.material_library[\"Si3N4\"][\"Luke2015PMLStable\"]\n",
    "nitride_index = gt.materials.get_index((\"Si3N4\", \"Luke2015PMLStable\"),wavelength)\n",
    "box_mat = td.material_library[\"SiO2\"][\"Horiba\"]\n",
    "box_index = gt.materials.get_index((\"SiO2\", \"Horiba\"),wavelength)"
   ]
  },
  {
   "cell_type": "markdown",
   "metadata": {},
   "source": [
    "### 1.2. Cross-Section Definition\n",
    "\n",
    "In GDSFactory - Tidy3d modesolver we have another function to easily define the Cross-Section of a Directional Coupler: [gt.modes.WaveguideCoupler()](https://gdsfactory.github.io/gplugins/_autosummary/gplugins.tidy3d.modes.WaveguideCoupler.html). It implements the deep (rib) and shallow (ridge) directional coupler waveguides cross-section, using as input parameters all the dimensions of the waveguide cores and also the distance between them (gap). "
   ]
  },
  {
   "cell_type": "code",
   "execution_count": 5,
   "metadata": {},
   "outputs": [
    {
     "data": {
      "text/plain": [
       "<matplotlib.collections.QuadMesh at 0x22be06292e0>"
      ]
     },
     "execution_count": 5,
     "metadata": {},
     "output_type": "execute_result"
    },
    {
     "data": {
      "image/png": "[encoded data removed]",
      "text/plain": [
       "<Figure size 640x480 with 2 Axes>"
      ]
     },
     "metadata": {},
     "output_type": "display_data"
    }
   ],
   "source": [
    "lambda_c = 1.55\n",
    "\n",
    "dcoupler_cs = gt.modes.WaveguideCoupler(\n",
    "    # Geometrical Parameters\n",
    "    core_width=(1.2, 1.2), # Waveguide width\n",
    "    slab_thickness=0 * nm, # For shallow waveguides - Set to 0 if its a deep-etched waveguide.\n",
    "    core_thickness=300 * nm, # Waveguide height \n",
    "    gap=600 * nm,\n",
    "    # Materials\n",
    "    core_material='sin', #  Material of the waveguide\n",
    "    clad_material='sio2', # Surrounding material\n",
    "    # Modesolver Parameters\n",
    "    wavelength=lambda_c, # Wavelength to simulate\n",
    "    num_modes=4, # Number of modes to find\n",
    "    #cache_path='C:/Users/CamiloCano/Desktop/Sims', # Important! In order to save simulation time, set your cache Path!\n",
    "    precision='double',\n",
    "    max_grid_scaling=1.5, # Parameters of the grid\n",
    "    grid_resolution=20 # Parameters of the grid\n",
    ")\n",
    "\n",
    "dcoupler_cs.plot_index()"
   ]
  },
  {
   "cell_type": "markdown",
   "metadata": {},
   "source": [
    "### 1.3. Simulations\n",
    "\n",
    "#### 1.3.1. Parameters\n",
    "\n",
    "As before, we can calculate the effective index (n_eff), TE and TM fraction for this cross-section using the already implemented class methods: .n_eff, .fraction_te and .fraction_tm. Remember that we will calculate one effective index for each mode (up to num_modes)"
   ]
  },
  {
   "cell_type": "code",
   "execution_count": 6,
   "metadata": {},
   "outputs": [
    {
     "name": "stdout",
     "output_type": "stream",
     "text": [
      "[1.60942484+1.02849974e-04j 1.60116589+9.83178135e-05j\n",
      " 1.53540293+1.77367472e-04j 1.52057329+1.77190584e-04j]\n"
     ]
    }
   ],
   "source": [
    "dcoupler_neff = dcoupler_cs.n_eff\n",
    "print(dcoupler_neff)"
   ]
  },
  {
   "cell_type": "code",
   "execution_count": 7,
   "metadata": {},
   "outputs": [
    {
     "data": {
      "text/plain": [
       "array([0.994898  , 0.99527537, 0.00888064, 0.01130183])"
      ]
     },
     "execution_count": 7,
     "metadata": {},
     "output_type": "execute_result"
    }
   ],
   "source": [
    "dcoupler_cs.fraction_te"
   ]
  },
  {
   "cell_type": "code",
   "execution_count": 8,
   "metadata": {},
   "outputs": [
    {
     "data": {
      "text/plain": [
       "array([0.005102  , 0.00472463, 0.99111936, 0.98869817])"
      ]
     },
     "execution_count": 8,
     "metadata": {},
     "output_type": "execute_result"
    }
   ],
   "source": [
    "dcoupler_cs.fraction_tm"
   ]
  },
  {
   "cell_type": "markdown",
   "metadata": {},
   "source": [
    "#### 1.3.2. Plots\n",
    "\n",
    "We could also plot the fields for each mode identified. Remember: the 'Ex' field component corresponds to TE modes, while the 'Ey' field component corresponds to TM modes. In the case of the directional coupler, the even and odd modes play a key role in facilitating energy exchange between the waveguides. Now, let's plot and analyze their behavior."
   ]
  },
  {
   "cell_type": "code",
   "execution_count": 9,
   "metadata": {},
   "outputs": [
    {
     "data": {
      "text/plain": [
       "<matplotlib.collections.QuadMesh at 0x22bf0ebab10>"
      ]
     },
     "execution_count": 9,
     "metadata": {},
     "output_type": "execute_result"
    },
    {
     "data": {
      "image/png": "[encoded data removed]",
      "text/plain": [
       "<Figure size 640x480 with 2 Axes>"
      ]
     },
     "metadata": {},
     "output_type": "display_data"
    }
   ],
   "source": [
    "dcoupler_cs.plot_field(mode_index=0 , # Mode to be plotted\n",
    "                          field_name='Ex', # Field to be plotted\n",
    "                          value='real', # Real - abs - imag\n",
    "                          cmap='coolwarm', # Suggestions: Change the plot color\n",
    "                          xlim=(-2.5, 2.5), # Set the x and y limits\n",
    "                          ylim=(-0.7, 1)\n",
    ") # "
   ]
  },
  {
   "cell_type": "code",
   "execution_count": 10,
   "metadata": {},
   "outputs": [
    {
     "data": {
      "text/plain": [
       "<matplotlib.collections.QuadMesh at 0x22bf0f038c0>"
      ]
     },
     "execution_count": 10,
     "metadata": {},
     "output_type": "execute_result"
    },
    {
     "data": {
      "image/png": "[encoded data removed]",
      "text/plain": [
       "<Figure size 640x480 with 2 Axes>"
      ]
     },
     "metadata": {},
     "output_type": "display_data"
    }
   ],
   "source": [
    "dcoupler_cs.plot_field(mode_index=1 , # Mode to be plotted\n",
    "                          field_name='Ex', # Field to be plotted\n",
    "                          value='real', # Real - abs - imag\n",
    "                          cmap='coolwarm', # Suggestions: Change the plot color\n",
    "                          xlim=(-2.5, 2.5), # Set the x and y limits\n",
    "                          ylim=(-0.7, 1)) # "
   ]
  },
  {
   "cell_type": "code",
   "execution_count": 11,
   "metadata": {},
   "outputs": [
    {
     "data": {
      "text/plain": [
       "<matplotlib.collections.QuadMesh at 0x22bf42bab10>"
      ]
     },
     "execution_count": 11,
     "metadata": {},
     "output_type": "execute_result"
    },
    {
     "data": {
      "image/png": "[encoded data removed]",
      "text/plain": [
       "<Figure size 640x480 with 2 Axes>"
      ]
     },
     "metadata": {},
     "output_type": "display_data"
    }
   ],
   "source": [
    "dcoupler_cs.plot_field(mode_index=2 , # Mode to be plotted\n",
    "                          field_name='Ey', # Field to be plotted\n",
    "                          value='real', # Real - abs - imag\n",
    "                          cmap='coolwarm', # Suggestions: Change the plot color\n",
    "                          xlim=(-2.5, 2.5), # Set the x and y limits\n",
    "                          ylim=(-0.7, 1)) # "
   ]
  },
  {
   "cell_type": "code",
   "execution_count": 12,
   "metadata": {},
   "outputs": [
    {
     "data": {
      "text/plain": [
       "<matplotlib.collections.QuadMesh at 0x22bf0e8e6f0>"
      ]
     },
     "execution_count": 12,
     "metadata": {},
     "output_type": "execute_result"
    },
    {
     "data": {
      "image/png": "[encoded data removed]",
      "text/plain": [
       "<Figure size 640x480 with 2 Axes>"
      ]
     },
     "metadata": {},
     "output_type": "display_data"
    }
   ],
   "source": [
    "dcoupler_cs.plot_field(mode_index=3, # Mode to be plotted\n",
    "                          field_name='Ey', # Field to be plotted\n",
    "                          value='real', # Real - abs - imag\n",
    "                          cmap='coolwarm', # Suggestions: Change the plot color\n",
    "                          xlim=(-2.5, 2.5), # Set the x and y limits\n",
    "                          ylim=(-0.7, 1)) # "
   ]
  },
  {
   "cell_type": "markdown",
   "metadata": {},
   "source": [
    "#### 1.3.3. Beating or Coupling Length calculation (𝐿𝜋)\n",
    "\n",
    "The key parameter that determines the design of a directional coupler is the coupling or beating length. This length defines the total size of the coupling region required to transfer all the optical power from one waveguide to another. It is determined by the difference between the effective indices of the cross-section's odd and even modes:"
   ]
  },
  {
   "cell_type": "code",
   "execution_count": 13,
   "metadata": {},
   "outputs": [
    {
     "name": "stdout",
     "output_type": "stream",
     "text": [
      "93.83767536696716\n",
      "52.260223677440635\n"
     ]
    }
   ],
   "source": [
    "# TE Modes: Modes 0 & 1\n",
    "L_pi_TE = 0.5*lambda_c/(dcoupler_neff[0].real-dcoupler_neff[1].real)\n",
    "print(L_pi_TE)\n",
    "\n",
    "L_pi_TM =  0.5*lambda_c/(dcoupler_neff[2].real-dcoupler_neff[3].real)\n",
    "print(L_pi_TM)"
   ]
  },
  {
   "cell_type": "markdown",
   "metadata": {},
   "source": [
    "GDSFactory has its own method implemented to calculate the coupling length: [.coupling_length()](https://gdsfactory.github.io/gplugins/_autosummary/gplugins.tidy3d.modes.WaveguideCoupler.html)"
   ]
  },
  {
   "cell_type": "code",
   "execution_count": 14,
   "metadata": {},
   "outputs": [
    {
     "data": {
      "text/plain": [
       "array([93.83767537, 52.26022368])"
      ]
     },
     "execution_count": 14,
     "metadata": {},
     "output_type": "execute_result"
    }
   ],
   "source": [
    "dcoupler_cs.coupling_length()"
   ]
  },
  {
   "cell_type": "markdown",
   "metadata": {},
   "source": [
    "## LO.2. Directional coupler length and coupling coefficient\n",
    "\n",
    "The total power transferred to the output is modeled using the coupling coefficient (K). This coefficient depends on the relationship between the physical length of the coupling region and the beating length:\n",
    "\n",
    "<img src=\"k.png\" alt=\"Coupling Coefficient Equation\" width=\"400\">"
   ]
  },
  {
   "cell_type": "code",
   "execution_count": 14,
   "metadata": {},
   "outputs": [
    {
     "name": "stdout",
     "output_type": "stream",
     "text": [
      "93.83767536696716\n"
     ]
    },
    {
     "ename": "TypeError",
     "evalue": "unsupported operand type(s) for /: 'ellipsis' and 'float'",
     "output_type": "error",
     "traceback": [
      "\u001b[31m---------------------------------------------------------------------------\u001b[39m",
      "\u001b[31mTypeError\u001b[39m                                 Traceback (most recent call last)",
      "\u001b[36mCell\u001b[39m\u001b[36m \u001b[39m\u001b[32mIn[14]\u001b[39m\u001b[32m, line 10\u001b[39m\n\u001b[32m      7\u001b[39m K = ... \u001b[38;5;66;03m# Student code here\u001b[39;00m\n\u001b[32m      9\u001b[39m plt.figure(figsize=(\u001b[32m10\u001b[39m, \u001b[32m5\u001b[39m))\n\u001b[32m---> \u001b[39m\u001b[32m10\u001b[39m plt.plot(\u001b[43mL_coup\u001b[49m\u001b[43m/\u001b[49m\u001b[43mL_pi_TE\u001b[49m, K)\n\u001b[32m     11\u001b[39m plt.xlabel(\u001b[33m\"\u001b[39m\u001b[33mL_coup/L_pi (um)\u001b[39m\u001b[33m\"\u001b[39m)\n\u001b[32m     12\u001b[39m plt.ylabel(\u001b[33m\"\u001b[39m\u001b[33mK\u001b[39m\u001b[33m\"\u001b[39m)\n",
      "\u001b[31mTypeError\u001b[39m: unsupported operand type(s) for /: 'ellipsis' and 'float'"
     ]
    },
    {
     "data": {
      "text/plain": [
       "<Figure size 1000x500 with 0 Axes>"
      ]
     },
     "metadata": {},
     "output_type": "display_data"
    }
   ],
   "source": [
    "# TE Modes: Modes 0 & 1\n",
    "L_pi_TE = 0.5*lambda_c/(dcoupler_neff[0].real-dcoupler_neff[1].real)\n",
    "print(L_pi_TE)\n",
    "\n",
    "L_coup = ... # Student code here\n",
    "\n",
    "K = ... # Student code here\n",
    "\n",
    "plt.figure(figsize=(10, 5))\n",
    "plt.plot(L_coup/L_pi_TE, K)\n",
    "plt.xlabel(\"L_coup/L_pi (um)\")\n",
    "plt.ylabel(\"K\")\n",
    "plt.grid()\n",
    "plt.tight_layout(rect=[0, 0, 0.85, 1])"
   ]
  },
  {
   "cell_type": "markdown",
   "metadata": {},
   "source": [
    "## LO.3. 2x2 Directional Coupler\n",
    "\n",
    "Here, you will use some functions provided by us (check **0. Imports** for more details) to simulate the propagation in a 2x2 directional coupler. Please read all the comments in the following code carefully and **make changes only to the lines marked with the #Student tag**"
   ]
  },
  {
   "cell_type": "code",
   "execution_count": 15,
   "metadata": {},
   "outputs": [
    {
     "name": "stderr",
     "output_type": "stream",
     "text": [
      "c:\\Users\\camil\\Documents\\GitHub\\pdk_UPVfab_v2\\.venv\\Lib\\site-packages\\skfem\\assembly\\form\\linear_form.py:44: ComplexWarning: Casting complex values to real discards the imaginary part\n",
      "  data[ixs] = self._kernel(vbasis.basis[i], w, dx)\n"
     ]
    },
    {
     "name": "stdout",
     "output_type": "stream",
     "text": [
      "L_pi =  94.02742605181183  µm\n"
     ]
    },
    {
     "name": "stderr",
     "output_type": "stream",
     "text": [
      "c:\\Users\\camil\\Documents\\GitHub\\pdk_UPVfab_v2\\.venv\\Lib\\site-packages\\skfem\\assembly\\form\\linear_form.py:44: ComplexWarning: Casting complex values to real discards the imaginary part\n",
      "  data[ixs] = self._kernel(vbasis.basis[i], w, dx)\n"
     ]
    }
   ],
   "source": [
    "# Simulation flow for Directional Couplers\n",
    "# Define your geometrical parameters here\n",
    "wg_gap = 0.6 # Student. Gap between waveguides\n",
    "wg_width = 1.2 # Student. Core waveguides width\n",
    "\n",
    "d = wg_width + wg_gap\n",
    "wg_N = 2\n",
    "\n",
    "m = DC_EME() # Here you instantiate a Directional Coupler to be simulated with the Eigen-mode expansion (EME) algorithm.\n",
    "m.MMI_num_modes = 12 # Number of modes to be calculated. Here, the higher, the better since we are going to calculate\n",
    "                    # the propagation based on the mode decomposition. \n",
    "m.DC_wg_gap = wg_gap # Gap between waveguides\n",
    "m.DC_wg_width = wg_width # Width of the waveguides core\n",
    "m.DC_N_waveguides = wg_N\n",
    "\n",
    "# 1) Compute de DC modes - Only execute whenever a geometrical parameter is changed. Takes time to find the modes. \n",
    "m.find_all_modes()\n",
    "\n",
    "# 2) Get the L_pi \n",
    "L_pi = m.get_L_pi()\n",
    "print(\"L_pi = \", L_pi, \" µm\")"
   ]
  },
  {
   "cell_type": "code",
   "execution_count": 16,
   "metadata": {},
   "outputs": [
    {
     "data": {
      "application/vnd.jupyter.widget-view+json": {
       "model_id": "4c914ba3a5b54d64996ca162bf8078aa",
       "version_major": 2,
       "version_minor": 0
      },
      "text/plain": [
       "  0%|          | 0/2 [00:00<?, ?it/s]"
      ]
     },
     "metadata": {},
     "output_type": "display_data"
    },
    {
     "name": "stdout",
     "output_type": "stream",
     "text": [
      "1024\n"
     ]
    },
    {
     "data": {
      "application/vnd.jupyter.widget-view+json": {
       "model_id": "2685c2bb6ff74950861f00b44397d274",
       "version_major": 2,
       "version_minor": 0
      },
      "text/plain": [
       "  0%|          | 0/940 [00:00<?, ?it/s]"
      ]
     },
     "metadata": {},
     "output_type": "display_data"
    },
    {
     "name": "stdout",
     "output_type": "stream",
     "text": [
      "------- Pameters -------\n",
      "MMI length 47.0137\n",
      "MMI length increment 0.0000\n",
      "IO wg width 1.0000\n",
      "IO wg width increment 0.0000\n",
      "------------------------\n",
      "Total power IN coupled 0.9688\n",
      "Total OUT power: 0.9583\n",
      "Excess loss [dB] =  0.1851\n",
      "------------------------\n",
      "Power over OUTs:  ['0.4791', '0.4791']\n",
      "Ratio over OUTs ['0.5000', '0.5000']\n"
     ]
    },
    {
     "data": {
      "image/png": "[encoded data removed]",
      "text/plain": [
       "<Figure size 640x480 with 1 Axes>"
      ]
     },
     "metadata": {},
     "output_type": "display_data"
    }
   ],
   "source": [
    "# IMPORTANT!!! \n",
    "# # If you DON'T change any geometrical parameter\n",
    "# (waveguide widths or gap) you can skip last cell. \n",
    "# YOU CAN RUN the lines below as many times as you wish\n",
    "# (SAVES TIME)\n",
    "\n",
    "# 3) Configure DC\n",
    "# DC I/O number\n",
    "m.n_IN = 2\n",
    "m.n_OUT = 2\n",
    "\n",
    "m.L_MMI = 0.5*L_pi # Since we use the same library for propagation simulations of MMI and DC \n",
    "                    # some variables might be identified as \"MMI\". Sorry about that (: \n",
    "                    # Might change in the future \n",
    "\n",
    "# 4) Run propagation - get power transfer and plot propagation\n",
    "m.propagation()"
   ]
  },
  {
   "cell_type": "markdown",
   "metadata": {},
   "source": [
    "## LO.4. Multimode Interference (MMI) Coupler cross-section\n",
    "\n",
    "### 1.1. Cross-Section definition and simulation\n",
    "\n",
    "In GDSFactory - Tidy3d modesolver, we can simulate the Cross-Section of a multimode interference coupler using the previously studied : [gt.modes.Waveguide()](https://gdsfactory.github.io/gplugins/_autosummary/gplugins.tidy3d.modes.Waveguide.html) function. The parameters will correspond to the dimensions of the MMI body section. "
   ]
  },
  {
   "cell_type": "code",
   "execution_count": 18,
   "metadata": {},
   "outputs": [
    {
     "data": {
      "text/html": [
       "<pre style=\"white-space:pre;overflow-x:auto;line-height:normal;font-family:Menlo,'DejaVu Sans Mono',consolas,'Courier New',monospace\"><span style=\"color: #7fbfbf; text-decoration-color: #7fbfbf\">23:19:12 Hora de verano romance </span><span style=\"color: #800000; text-decoration-color: #800000\">WARNING: The group index was not computed. To   </span>\n",
       "<span style=\"color: #7fbfbf; text-decoration-color: #7fbfbf\">                                </span><span style=\"color: #800000; text-decoration-color: #800000\">calculate group index, pass </span><span style=\"color: #008000; text-decoration-color: #008000\">'group_index_step = </span>\n",
       "<span style=\"color: #7fbfbf; text-decoration-color: #7fbfbf\">                                </span><span style=\"color: #008000; text-decoration-color: #008000\">True'</span><span style=\"color: #800000; text-decoration-color: #800000\"> in the </span><span style=\"color: #008000; text-decoration-color: #008000\">'ModeSpec'</span><span style=\"color: #800000; text-decoration-color: #800000\">.                        </span>\n",
       "</pre>\n"
      ],
      "text/plain": [
       "\u001b[2;36m23:19:12 Hora de verano romance\u001b[0m\u001b[2;36m \u001b[0m\u001b[31mWARNING: The group index was not computed. To   \u001b[0m\n",
       "\u001b[2;36m                                \u001b[0m\u001b[31mcalculate group index, pass \u001b[0m\u001b[32m'group_index_step = \u001b[0m\n",
       "\u001b[2;36m                                \u001b[0m\u001b[32mTrue'\u001b[0m\u001b[31m in the \u001b[0m\u001b[32m'ModeSpec'\u001b[0m\u001b[31m.                        \u001b[0m\n"
      ]
     },
     "metadata": {},
     "output_type": "display_data"
    },
    {
     "data": {
      "text/plain": [
       "array([1.6786595 +7.78934672e-05j, 1.67512732+7.81571827e-05j,\n",
       "       1.66922847+7.86028340e-05j, 1.66094525+7.92401466e-05j,\n",
       "       1.65025312+8.00839409e-05j, 1.63712124+8.11557006e-05j,\n",
       "       1.6215135 +8.24863265e-05j, 1.60339058+8.41212350e-05j,\n",
       "       1.58271457+8.61311110e-05j, 1.5774205 +1.66068730e-04j,\n",
       "       1.57388942+1.66498915e-04j, 1.56799588+1.67223410e-04j,\n",
       "       1.55972723+1.68258130e-04j, 1.5594584 +8.86366847e-05j,\n",
       "       1.54906903+1.69617736e-04j])"
      ]
     },
     "execution_count": 18,
     "metadata": {},
     "output_type": "execute_result"
    }
   ],
   "source": [
    "mmi_body_w = 12  \n",
    "lambda_c = 1550*nm\n",
    "\n",
    "mmi_body_waveguide = gt.modes.Waveguide(\n",
    "    # Geometrical Parameters\n",
    "    core_width=mmi_body_w, # MMI Body width\n",
    "    core_thickness=300 * nm, # MMI Body height \n",
    "    slab_thickness=0 * nm, # For shallow waveguides - Set to 0 if its a deep-etched waveguides.\n",
    "    # Materials\n",
    "    core_material='sin', #  Material of the waveguide\n",
    "    clad_material='sio2', # Surrounding material\n",
    "    # Modesolver Parameters\n",
    "    wavelength=lambda_c, # Wavelength to simulate\n",
    "    num_modes=15, # Targeted number of modes to find - Higher than before! It's a multimode section\n",
    "    max_grid_scaling=1.5, # Parameters of the grid\n",
    "    grid_resolution=20, # Parameters of the grid\n",
    "    #cache_path='C:/Users/CamiloCano/Desktop/Sims', # Important! In order to save simulation time, set your cache Path!\n",
    "    precision='double',\n",
    ")\n",
    "\n",
    "mmi_body_waveguide.n_eff"
   ]
  },
  {
   "cell_type": "code",
   "execution_count": 19,
   "metadata": {},
   "outputs": [
    {
     "data": {
      "text/plain": [
       "array([9.99991904e-01, 9.99967183e-01, 9.99924497e-01, 9.99861445e-01,\n",
       "       9.99774272e-01, 9.99657368e-01, 9.99502382e-01, 9.99296461e-01,\n",
       "       9.99013009e-01, 2.38565216e-04, 9.55099424e-04, 2.13831793e-03,\n",
       "       3.73633927e-03, 9.98594348e-01, 5.78997522e-03])"
      ]
     },
     "execution_count": 19,
     "metadata": {},
     "output_type": "execute_result"
    }
   ],
   "source": [
    "mmi_body_waveguide.fraction_te"
   ]
  },
  {
   "cell_type": "code",
   "execution_count": 20,
   "metadata": {},
   "outputs": [
    {
     "data": {
      "text/plain": [
       "<matplotlib.collections.QuadMesh at 0x22bf482a660>"
      ]
     },
     "execution_count": 20,
     "metadata": {},
     "output_type": "execute_result"
    },
    {
     "data": {
      "image/png": "[encoded data removed]",
      "text/plain": [
       "<Figure size 640x480 with 2 Axes>"
      ]
     },
     "metadata": {},
     "output_type": "display_data"
    }
   ],
   "source": [
    "mmi_body_waveguide.plot_field(mode_index=0 , # Mode to be plotted\n",
    "                          field_name='Ex', # Field to be plotted\n",
    "                          value='real', # Real - abs - imag\n",
    "                          cmap='coolwarm', # Suggestions: Change the plot color\n",
    "                          xlim=(-7, 7), # Set the x and y limits\n",
    "                          ylim=(-0.7, 1)\n",
    ") # "
   ]
  },
  {
   "cell_type": "code",
   "execution_count": 21,
   "metadata": {},
   "outputs": [
    {
     "data": {
      "text/plain": [
       "<matplotlib.collections.QuadMesh at 0x22bf487bc80>"
      ]
     },
     "execution_count": 21,
     "metadata": {},
     "output_type": "execute_result"
    },
    {
     "data": {
      "image/png": "[encoded data removed]",
      "text/plain": [
       "<Figure size 640x480 with 2 Axes>"
      ]
     },
     "metadata": {},
     "output_type": "display_data"
    }
   ],
   "source": [
    "mmi_body_waveguide.plot_field(mode_index=1 , # Mode to be plotted\n",
    "                          field_name='Ex', # Field to be plotted\n",
    "                          value='real', # Real - abs - imag\n",
    "                          cmap='coolwarm', # Suggestions: Change the plot color\n",
    "                          xlim=(-7, 7), # Set the x and y limits\n",
    "                          ylim=(-0.7, 1)) # "
   ]
  },
  {
   "cell_type": "code",
   "execution_count": 22,
   "metadata": {},
   "outputs": [
    {
     "data": {
      "text/plain": [
       "<matplotlib.collections.QuadMesh at 0x22bf491f440>"
      ]
     },
     "execution_count": 22,
     "metadata": {},
     "output_type": "execute_result"
    },
    {
     "data": {
      "image/png": "[encoded data removed]",
      "text/plain": [
       "<Figure size 640x480 with 2 Axes>"
      ]
     },
     "metadata": {},
     "output_type": "display_data"
    }
   ],
   "source": [
    "mmi_body_waveguide.plot_field(mode_index=7, # Mode to be plotted\n",
    "                          field_name='Ex', # Field to be plotted\n",
    "                          value='real', # Real - abs - imag\n",
    "                          cmap='coolwarm', # Suggestions: Change the plot color\n",
    "                          xlim=(-7, 7), # Set the x and y limits\n",
    "                          ylim=(-0.7, 1)) #"
   ]
  },
  {
   "cell_type": "markdown",
   "metadata": {},
   "source": [
    "#### 1.1.2 Beating Length calculation (𝐿𝜋)\n",
    "\n",
    "With this information, we could calculate our first guess for the beating length (𝐿𝜋) of the MMI coupler:"
   ]
  },
  {
   "cell_type": "code",
   "execution_count": 23,
   "metadata": {},
   "outputs": [
    {
     "name": "stdout",
     "output_type": "stream",
     "text": [
      "219.41119794411597\n"
     ]
    }
   ],
   "source": [
    "d_n_eff = mmi_body_waveguide.n_eff[0].real -  mmi_body_waveguide.n_eff[1].real\n",
    "\n",
    "L_pi = 0.5*lambda_c/(d_n_eff)\n",
    "\n",
    "print (L_pi)"
   ]
  },
  {
   "cell_type": "markdown",
   "metadata": {},
   "source": [
    "## LO.5. 2x2 Multimode Interference Coupler \n",
    "\n",
    "For the multimode interference (MMI) couplers we must rely on the design tables shown on the theoretical session: \n",
    "\n",
    "<img src=\"mmi.png\" alt=\"Design tables for MMI couplers\" width=\"600\">\n",
    "\n",
    "Here, you will use some functions provided by us (check **0. Imports** for more details) to simulate the propagation in a 2x2 directional coupler. Please read all the comments in the following code carefully and **make changes only to the lines marked with the #Student tag**"
   ]
  },
  {
   "cell_type": "code",
   "execution_count": 24,
   "metadata": {},
   "outputs": [
    {
     "name": "stderr",
     "output_type": "stream",
     "text": [
      "c:\\Users\\camil\\Documents\\GitHub\\pdk_UPVfab_v2\\.venv\\Lib\\site-packages\\skfem\\assembly\\form\\linear_form.py:44: ComplexWarning: Casting complex values to real discards the imaginary part\n",
      "  data[ixs] = self._kernel(vbasis.basis[i], w, dx)\n"
     ]
    },
    {
     "name": "stdout",
     "output_type": "stream",
     "text": [
      "L_pi =  219.1393154410822  µm\n"
     ]
    },
    {
     "name": "stderr",
     "output_type": "stream",
     "text": [
      "c:\\Users\\camil\\Documents\\GitHub\\pdk_UPVfab_v2\\.venv\\Lib\\site-packages\\skfem\\assembly\\form\\linear_form.py:44: ComplexWarning: Casting complex values to real discards the imaginary part\n",
      "  data[ixs] = self._kernel(vbasis.basis[i], w, dx)\n"
     ]
    }
   ],
   "source": [
    "# Simulation flow for MMI Couplers\n",
    "# Define your geometrical parameters here\n",
    "mmi_Width = 12  # Student. Body width\n",
    "\n",
    "m = MMI_EME() # Here you instantiate a MMI to be simulated with the Eigen-mode expansion (EME) algorithm.\n",
    "m.MMI_width = mmi_Width\n",
    "m.MMI_num_modes = 12 # Number of modes to be calculated. Here, the higher, the better since we are going to calculate\n",
    "                    # the propagation based on the mode decomposition. \n",
    "\n",
    "# 1) Compute de MMI body modes - Only execute whenever a geometrical parameter is changed. Takes time to find the modes. \n",
    "m.find_all_modes()\n",
    "\n",
    "# 2) Get the L_pi \n",
    "L_pi = m.get_L_pi()\n",
    "print(\"L_pi = \", L_pi, \" µm\")"
   ]
  },
  {
   "cell_type": "code",
   "execution_count": 25,
   "metadata": {},
   "outputs": [
    {
     "data": {
      "application/vnd.jupyter.widget-view+json": {
       "model_id": "a471bccb7daf4a97964aba262cfe2d42",
       "version_major": 2,
       "version_minor": 0
      },
      "text/plain": [
       "  0%|          | 0/9 [00:00<?, ?it/s]"
      ]
     },
     "metadata": {},
     "output_type": "display_data"
    },
    {
     "name": "stdout",
     "output_type": "stream",
     "text": [
      "1024\n"
     ]
    },
    {
     "data": {
      "application/vnd.jupyter.widget-view+json": {
       "model_id": "7cd1dbebca7b438d9ef309508ee3a62d",
       "version_major": 2,
       "version_minor": 0
      },
      "text/plain": [
       "  0%|          | 0/2191 [00:00<?, ?it/s]"
      ]
     },
     "metadata": {},
     "output_type": "display_data"
    },
    {
     "name": "stdout",
     "output_type": "stream",
     "text": [
      "------- Pameters -------\n",
      "MMI length 109.5697\n",
      "MMI length increment 0.0000\n",
      "IO wg width 1.0000\n",
      "IO wg width increment 0.0000\n",
      "------------------------\n",
      "Total power IN coupled 0.8471\n",
      "Total OUT power: 0.6953\n",
      "Excess loss [dB] =  1.5782\n",
      "------------------------\n",
      "Power over OUTs:  ['0.3484', '0.3469']\n",
      "Ratio over OUTs ['0.5011', '0.4989']\n"
     ]
    },
    {
     "data": {
      "image/png": "[encoded data removed]",
      "text/plain": [
       "<Figure size 640x480 with 1 Axes>"
      ]
     },
     "metadata": {},
     "output_type": "display_data"
    }
   ],
   "source": [
    "# IMPORTANT!!! \n",
    "# # If you DON'T change neither the MMI width \n",
    "# nor input/output waveguide widths\n",
    "# YOU CAN RUN the lines below as many times as you wish\n",
    "# (SAVES TIME)\n",
    "\n",
    "# 3) Configure MMI\n",
    "# # MMI I/O number (check class slides for type of MMI)\n",
    "m.n_IN =  2 # STUDENT\n",
    "m.n_OUT = 2 # STUDENT\n",
    "\n",
    "# MMI I/O waveguide positions (check class slides for type of MMI)\n",
    "m.IN_WVG_positions = m.MMI_width * np.array([-1/6,1/6]) # STUDENT\n",
    "m.OUT_WVG_positions = m.MMI_width * np.array([-1/6,1/6]) # STUDENT\n",
    "\n",
    "# MMI length (check class slides for type of MMI)\n",
    "m.L_MMI = L_pi/2 # STUDENT\n",
    "\n",
    "# Run propagation\n",
    "m.propagation()"
   ]
  }
 ],
 "metadata": {
  "kernelspec": {
   "display_name": "upvfab_sin300_refactor",
   "language": "python",
   "name": "python3"
  },
  "language_info": {
   "codemirror_mode": {
    "name": "ipython",
    "version": 3
   },
   "file_extension": ".py",
   "mimetype": "text/x-python",
   "name": "python",
   "nbconvert_exporter": "python",
   "pygments_lexer": "ipython3",
   "version": "3.12.9"
  }
 },
 "nbformat": 4,
 "nbformat_minor": 2
}
